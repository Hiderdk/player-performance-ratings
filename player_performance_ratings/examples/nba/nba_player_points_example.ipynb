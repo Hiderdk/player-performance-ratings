{
 "cells": [
  {
   "cell_type": "markdown",
   "id": "77955936-be55-49b3-83b9-214071c6c606",
   "metadata": {},
   "source": [
    "## NBA Player Points Prediction example\n",
    "\n",
    "This is a step-by-step guide on how to generate probabilities for the amount of points an nba player will score in a games using machine-learning and various feature engineering approaches.\n",
    "\n",
    "The primary intention is an introduction with some ideas/inspiration on how to think about modelling NBA player points. This section, however uses default hypa To generate accurate predictions that can compete with bookmakers.\n",
    "\n",
    "Also note, that the dataset used only contains 20% of all game-ids within a a period of a few years (in order to keep it relatively fast). When generating your own model, make sure to use your own dataset.\n"
   ]
  },
  {
   "cell_type": "code",
   "execution_count": 1,
   "id": "ee4901b1-6f15-42d1-b395-d9d53f68b9a7",
   "metadata": {},
   "outputs": [
    {
     "data": {
      "text/html": [
       "<div>\n",
       "<style scoped>\n",
       "    .dataframe tbody tr th:only-of-type {\n",
       "        vertical-align: middle;\n",
       "    }\n",
       "\n",
       "    .dataframe tbody tr th {\n",
       "        vertical-align: top;\n",
       "    }\n",
       "\n",
       "    .dataframe thead th {\n",
       "        text-align: right;\n",
       "    }\n",
       "</style>\n",
       "<table border=\"1\" class=\"dataframe\">\n",
       "  <thead>\n",
       "    <tr style=\"text-align: right;\">\n",
       "      <th></th>\n",
       "      <th>team_id</th>\n",
       "      <th>start_date</th>\n",
       "      <th>game_id</th>\n",
       "      <th>player_id</th>\n",
       "      <th>team_id_opponent</th>\n",
       "      <th>points</th>\n",
       "      <th>minutes</th>\n",
       "      <th>won</th>\n",
       "      <th>team_count</th>\n",
       "    </tr>\n",
       "  </thead>\n",
       "  <tbody>\n",
       "    <tr>\n",
       "      <th>38953</th>\n",
       "      <td>1610612755</td>\n",
       "      <td>2022-10-18</td>\n",
       "      <td>0022200001</td>\n",
       "      <td>202699</td>\n",
       "      <td>1610612738</td>\n",
       "      <td>18.0</td>\n",
       "      <td>34.233</td>\n",
       "      <td>0</td>\n",
       "      <td>2</td>\n",
       "    </tr>\n",
       "    <tr>\n",
       "      <th>38954</th>\n",
       "      <td>1610612755</td>\n",
       "      <td>2022-10-18</td>\n",
       "      <td>0022200001</td>\n",
       "      <td>200782</td>\n",
       "      <td>1610612738</td>\n",
       "      <td>6.0</td>\n",
       "      <td>33.017</td>\n",
       "      <td>0</td>\n",
       "      <td>2</td>\n",
       "    </tr>\n",
       "    <tr>\n",
       "      <th>38955</th>\n",
       "      <td>1610612755</td>\n",
       "      <td>2022-10-18</td>\n",
       "      <td>0022200001</td>\n",
       "      <td>203954</td>\n",
       "      <td>1610612738</td>\n",
       "      <td>26.0</td>\n",
       "      <td>37.267</td>\n",
       "      <td>0</td>\n",
       "      <td>2</td>\n",
       "    </tr>\n",
       "    <tr>\n",
       "      <th>38956</th>\n",
       "      <td>1610612755</td>\n",
       "      <td>2022-10-18</td>\n",
       "      <td>0022200001</td>\n",
       "      <td>1630178</td>\n",
       "      <td>1610612738</td>\n",
       "      <td>21.0</td>\n",
       "      <td>38.200</td>\n",
       "      <td>0</td>\n",
       "      <td>2</td>\n",
       "    </tr>\n",
       "    <tr>\n",
       "      <th>38957</th>\n",
       "      <td>1610612755</td>\n",
       "      <td>2022-10-18</td>\n",
       "      <td>0022200001</td>\n",
       "      <td>201935</td>\n",
       "      <td>1610612738</td>\n",
       "      <td>35.0</td>\n",
       "      <td>37.267</td>\n",
       "      <td>0</td>\n",
       "      <td>2</td>\n",
       "    </tr>\n",
       "  </tbody>\n",
       "</table>\n",
       "</div>"
      ],
      "text/plain": [
       "          team_id  start_date     game_id  player_id  team_id_opponent  \\\n",
       "38953  1610612755  2022-10-18  0022200001     202699        1610612738   \n",
       "38954  1610612755  2022-10-18  0022200001     200782        1610612738   \n",
       "38955  1610612755  2022-10-18  0022200001     203954        1610612738   \n",
       "38956  1610612755  2022-10-18  0022200001    1630178        1610612738   \n",
       "38957  1610612755  2022-10-18  0022200001     201935        1610612738   \n",
       "\n",
       "       points  minutes won  team_count  \n",
       "38953    18.0   34.233   0           2  \n",
       "38954     6.0   33.017   0           2  \n",
       "38955    26.0   37.267   0           2  \n",
       "38956    21.0   38.200   0           2  \n",
       "38957    35.0   37.267   0           2  "
      ]
     },
     "execution_count": 1,
     "metadata": {},
     "output_type": "execute_result"
    }
   ],
   "source": [
    "# Load subsmapled data.\n",
    "import pandas as pd\n",
    "df = pd.read_pickle(r\"data/game_player_subsample.pickle\")\n",
    "#Filter away potentially bugged data where there are not 2 different team_ids playing\n",
    "\n",
    "df = (\n",
    "    df.assign(team_count=df.groupby(\"game_id\")[\"team_id\"].transform('nunique'))\n",
    "    .loc[lambda x: x.team_count == 2]\n",
    ")\n",
    "df.head()"
   ]
  },
  {
   "cell_type": "code",
   "execution_count": 2,
   "id": "98c49501-3a22-4fe3-94da-2a549ca260c0",
   "metadata": {},
   "outputs": [
    {
     "data": {
      "text/html": [
       "<div>\n",
       "<style scoped>\n",
       "    .dataframe tbody tr th:only-of-type {\n",
       "        vertical-align: middle;\n",
       "    }\n",
       "\n",
       "    .dataframe tbody tr th {\n",
       "        vertical-align: top;\n",
       "    }\n",
       "\n",
       "    .dataframe thead th {\n",
       "        text-align: right;\n",
       "    }\n",
       "</style>\n",
       "<table border=\"1\" class=\"dataframe\">\n",
       "  <thead>\n",
       "    <tr style=\"text-align: right;\">\n",
       "      <th></th>\n",
       "      <th>team_id</th>\n",
       "      <th>player_id</th>\n",
       "      <th>team_id_opponent</th>\n",
       "      <th>points</th>\n",
       "      <th>minutes</th>\n",
       "      <th>team_count</th>\n",
       "    </tr>\n",
       "  </thead>\n",
       "  <tbody>\n",
       "    <tr>\n",
       "      <th>count</th>\n",
       "      <td>1.987200e+04</td>\n",
       "      <td>1.987200e+04</td>\n",
       "      <td>1.987200e+04</td>\n",
       "      <td>19872.000000</td>\n",
       "      <td>19872.000000</td>\n",
       "      <td>19872.0</td>\n",
       "    </tr>\n",
       "    <tr>\n",
       "      <th>mean</th>\n",
       "      <td>1.610613e+09</td>\n",
       "      <td>1.270595e+06</td>\n",
       "      <td>1.610613e+09</td>\n",
       "      <td>8.921548</td>\n",
       "      <td>18.892618</td>\n",
       "      <td>2.0</td>\n",
       "    </tr>\n",
       "    <tr>\n",
       "      <th>std</th>\n",
       "      <td>8.635314e+00</td>\n",
       "      <td>6.204898e+05</td>\n",
       "      <td>8.655319e+00</td>\n",
       "      <td>9.177834</td>\n",
       "      <td>13.163723</td>\n",
       "      <td>0.0</td>\n",
       "    </tr>\n",
       "    <tr>\n",
       "      <th>min</th>\n",
       "      <td>1.610613e+09</td>\n",
       "      <td>2.544000e+03</td>\n",
       "      <td>1.610613e+09</td>\n",
       "      <td>0.000000</td>\n",
       "      <td>0.000000</td>\n",
       "      <td>2.0</td>\n",
       "    </tr>\n",
       "    <tr>\n",
       "      <th>25%</th>\n",
       "      <td>1.610613e+09</td>\n",
       "      <td>2.044560e+05</td>\n",
       "      <td>1.610613e+09</td>\n",
       "      <td>0.000000</td>\n",
       "      <td>5.933000</td>\n",
       "      <td>2.0</td>\n",
       "    </tr>\n",
       "    <tr>\n",
       "      <th>50%</th>\n",
       "      <td>1.610613e+09</td>\n",
       "      <td>1.629011e+06</td>\n",
       "      <td>1.610613e+09</td>\n",
       "      <td>7.000000</td>\n",
       "      <td>20.150000</td>\n",
       "      <td>2.0</td>\n",
       "    </tr>\n",
       "    <tr>\n",
       "      <th>75%</th>\n",
       "      <td>1.610613e+09</td>\n",
       "      <td>1.630227e+06</td>\n",
       "      <td>1.610613e+09</td>\n",
       "      <td>14.000000</td>\n",
       "      <td>30.350000</td>\n",
       "      <td>2.0</td>\n",
       "    </tr>\n",
       "    <tr>\n",
       "      <th>max</th>\n",
       "      <td>1.610613e+09</td>\n",
       "      <td>1.631495e+06</td>\n",
       "      <td>1.610613e+09</td>\n",
       "      <td>71.000000</td>\n",
       "      <td>52.733000</td>\n",
       "      <td>2.0</td>\n",
       "    </tr>\n",
       "  </tbody>\n",
       "</table>\n",
       "</div>"
      ],
      "text/plain": [
       "            team_id     player_id  team_id_opponent        points  \\\n",
       "count  1.987200e+04  1.987200e+04      1.987200e+04  19872.000000   \n",
       "mean   1.610613e+09  1.270595e+06      1.610613e+09      8.921548   \n",
       "std    8.635314e+00  6.204898e+05      8.655319e+00      9.177834   \n",
       "min    1.610613e+09  2.544000e+03      1.610613e+09      0.000000   \n",
       "25%    1.610613e+09  2.044560e+05      1.610613e+09      0.000000   \n",
       "50%    1.610613e+09  1.629011e+06      1.610613e+09      7.000000   \n",
       "75%    1.610613e+09  1.630227e+06      1.610613e+09     14.000000   \n",
       "max    1.610613e+09  1.631495e+06      1.610613e+09     71.000000   \n",
       "\n",
       "            minutes  team_count  \n",
       "count  19872.000000     19872.0  \n",
       "mean      18.892618         2.0  \n",
       "std       13.163723         0.0  \n",
       "min        0.000000         2.0  \n",
       "25%        5.933000         2.0  \n",
       "50%       20.150000         2.0  \n",
       "75%       30.350000         2.0  \n",
       "max       52.733000         2.0  "
      ]
     },
     "execution_count": 2,
     "metadata": {},
     "output_type": "execute_result"
    }
   ],
   "source": [
    "df.describe()"
   ]
  },
  {
   "cell_type": "code",
   "execution_count": 3,
   "id": "77a3f2cc-2cbb-499b-8ecb-aedd5109ccc3",
   "metadata": {},
   "outputs": [
    {
     "name": "stdout",
     "output_type": "stream",
     "text": [
      "776 number of games. Ranging from 2022-10-18 to 2023-02-01\n"
     ]
    }
   ],
   "source": [
    "print(f\"{len(df['game_id'].unique())} number of games. Ranging from {df['start_date'].min()} to {df['start_date'].max()}\")"
   ]
  },
  {
   "cell_type": "markdown",
   "id": "660638a2-dcdf-45ae-94db-8c951a59c53e",
   "metadata": {},
   "source": [
    "One thing that perhaps isn't as intuitive is what happens below, which is \"clipping\". \n",
    "First we define the target (the column we are trying to predict).\n",
    "Next, we clip it, meaning we limit it's values too between 0 and 40.\n",
    "Our Machine-learning models don't work too well if they need to predict too many unique values. Thus, our Machine-learning model will only be able within the 0-40 threshold."
   ]
  },
  {
   "cell_type": "code",
   "execution_count": 4,
   "id": "7e09ffee-a9c4-411e-a065-90f2ae7a82c7",
   "metadata": {},
   "outputs": [],
   "source": [
    "\n",
    "from player_performance_ratings import PredictColumnNames\n",
    "df[PredictColumnNames.TARGET] = df[\"points\"]\n",
    "df[PredictColumnNames.TARGET] = df[PredictColumnNames.TARGET].clip(0, 40)"
   ]
  },
  {
   "cell_type": "markdown",
   "id": "a4d400d0-2def-43b7-887f-d361d18537ea",
   "metadata": {},
   "source": [
    "The first feature we will be experimenting with is a rolling-mean of past player points. The idea is that the past rolling average of a players points has predictive power. "
   ]
  },
  {
   "cell_type": "code",
   "execution_count": 5,
   "id": "71a3e71c-67dc-49d5-9665-7a8830c84cf0",
   "metadata": {},
   "outputs": [
    {
     "name": "stderr",
     "output_type": "stream",
     "text": [
      "C:\\Users\\Admin\\anaconda3\\lib\\site-packages\\player_performance_ratings\\transformation\\post_transformers.py:191: FutureWarning: Not prepending group keys to the result index of transform-like apply. In the future, the group keys will be included in the index, regardless of whether the applied function returns a like-indexed object.\n",
      "To preserve the previous behavior, use\n",
      "\n",
      "\t>>> .groupby(..., group_keys=False)\n",
      "\n",
      "To adopt the future behavior and silence this warning, use \n",
      "\n",
      "\t>>> .groupby(..., group_keys=True)\n",
      "  data = data.assign(**{output_column_name: data.groupby(self.granularity)[feature_name].apply(\n"
     ]
    },
    {
     "data": {
      "text/html": [
       "<div>\n",
       "<style scoped>\n",
       "    .dataframe tbody tr th:only-of-type {\n",
       "        vertical-align: middle;\n",
       "    }\n",
       "\n",
       "    .dataframe tbody tr th {\n",
       "        vertical-align: top;\n",
       "    }\n",
       "\n",
       "    .dataframe thead th {\n",
       "        text-align: right;\n",
       "    }\n",
       "</style>\n",
       "<table border=\"1\" class=\"dataframe\">\n",
       "  <thead>\n",
       "    <tr style=\"text-align: right;\">\n",
       "      <th></th>\n",
       "      <th>team_id</th>\n",
       "      <th>start_date</th>\n",
       "      <th>game_id</th>\n",
       "      <th>player_id</th>\n",
       "      <th>team_id_opponent</th>\n",
       "      <th>points</th>\n",
       "      <th>minutes</th>\n",
       "      <th>won</th>\n",
       "      <th>team_count</th>\n",
       "      <th>__target</th>\n",
       "      <th>rolling_mean_15_points</th>\n",
       "    </tr>\n",
       "  </thead>\n",
       "  <tbody>\n",
       "    <tr>\n",
       "      <th>58820</th>\n",
       "      <td>1610612756</td>\n",
       "      <td>2023-02-01</td>\n",
       "      <td>0022200777</td>\n",
       "      <td>1630240</td>\n",
       "      <td>1610612737</td>\n",
       "      <td>6.0</td>\n",
       "      <td>21.483</td>\n",
       "      <td>0</td>\n",
       "      <td>2</td>\n",
       "      <td>6.0</td>\n",
       "      <td>5.066667</td>\n",
       "    </tr>\n",
       "    <tr>\n",
       "      <th>58821</th>\n",
       "      <td>1610612756</td>\n",
       "      <td>2023-02-01</td>\n",
       "      <td>0022200777</td>\n",
       "      <td>202687</td>\n",
       "      <td>1610612737</td>\n",
       "      <td>2.0</td>\n",
       "      <td>10.000</td>\n",
       "      <td>0</td>\n",
       "      <td>2</td>\n",
       "      <td>2.0</td>\n",
       "      <td>3.666667</td>\n",
       "    </tr>\n",
       "    <tr>\n",
       "      <th>58822</th>\n",
       "      <td>1610612756</td>\n",
       "      <td>2023-02-01</td>\n",
       "      <td>0022200777</td>\n",
       "      <td>1629006</td>\n",
       "      <td>1610612737</td>\n",
       "      <td>2.0</td>\n",
       "      <td>15.367</td>\n",
       "      <td>0</td>\n",
       "      <td>2</td>\n",
       "      <td>2.0</td>\n",
       "      <td>6.066667</td>\n",
       "    </tr>\n",
       "    <tr>\n",
       "      <th>58823</th>\n",
       "      <td>1610612756</td>\n",
       "      <td>2023-02-01</td>\n",
       "      <td>0022200777</td>\n",
       "      <td>1630688</td>\n",
       "      <td>1610612737</td>\n",
       "      <td>4.0</td>\n",
       "      <td>18.950</td>\n",
       "      <td>0</td>\n",
       "      <td>2</td>\n",
       "      <td>4.0</td>\n",
       "      <td>3.866667</td>\n",
       "    </tr>\n",
       "    <tr>\n",
       "      <th>58824</th>\n",
       "      <td>1610612756</td>\n",
       "      <td>2023-02-01</td>\n",
       "      <td>0022200777</td>\n",
       "      <td>1629111</td>\n",
       "      <td>1610612737</td>\n",
       "      <td>6.0</td>\n",
       "      <td>10.517</td>\n",
       "      <td>0</td>\n",
       "      <td>2</td>\n",
       "      <td>6.0</td>\n",
       "      <td>5.866667</td>\n",
       "    </tr>\n",
       "  </tbody>\n",
       "</table>\n",
       "</div>"
      ],
      "text/plain": [
       "          team_id  start_date     game_id  player_id  team_id_opponent  \\\n",
       "58820  1610612756  2023-02-01  0022200777    1630240        1610612737   \n",
       "58821  1610612756  2023-02-01  0022200777     202687        1610612737   \n",
       "58822  1610612756  2023-02-01  0022200777    1629006        1610612737   \n",
       "58823  1610612756  2023-02-01  0022200777    1630688        1610612737   \n",
       "58824  1610612756  2023-02-01  0022200777    1629111        1610612737   \n",
       "\n",
       "       points  minutes won  team_count  __target  rolling_mean_15_points  \n",
       "58820     6.0   21.483   0           2       6.0                5.066667  \n",
       "58821     2.0   10.000   0           2       2.0                3.666667  \n",
       "58822     2.0   15.367   0           2       2.0                6.066667  \n",
       "58823     4.0   18.950   0           2       4.0                3.866667  \n",
       "58824     6.0   10.517   0           2       6.0                5.866667  "
      ]
     },
     "execution_count": 5,
     "metadata": {},
     "output_type": "execute_result"
    }
   ],
   "source": [
    "from player_performance_ratings.transformation.post_transformers import RollingMeanTransformation\n",
    "rolling_mean = RollingMeanTransformation(feature_names=[\"points\"], window=15, granularity=[\"player_id\"])\n",
    "df_rolling_mean = rolling_mean.transform(df)\n",
    "df_rolling_mean.tail()"
   ]
  },
  {
   "cell_type": "markdown",
   "id": "f3879fa4-9989-4316-bb7d-de73fa822ee6",
   "metadata": {},
   "source": [
    "Before we can train and evaluate a machine-learning model we will split the dataset into train and predict. Below we create the separation based on start_date and we ensure that 75% of games goes to the train data and 25% to the predict dataset."
   ]
  },
  {
   "cell_type": "code",
   "execution_count": 6,
   "id": "4b0e0064-09da-4d20-8e78-19a7646f4827",
   "metadata": {},
   "outputs": [
    {
     "data": {
      "text/plain": [
       "Timestamp('2023-01-06 00:00:00')"
      ]
     },
     "execution_count": 6,
     "metadata": {},
     "output_type": "execute_result"
    }
   ],
   "source": [
    "train_date_threshold = pd.to_datetime(df['start_date']).quantile([0.25, 0.5, 0.75]).tolist()[2]\n",
    "train_date_threshold"
   ]
  },
  {
   "cell_type": "code",
   "execution_count": 7,
   "id": "7339a45a-25b5-431a-9de3-6b028a7fb584",
   "metadata": {},
   "outputs": [
    {
     "name": "stderr",
     "output_type": "stream",
     "text": [
      "Exception in thread Thread-6:\n",
      "Traceback (most recent call last):\n",
      "  File \"C:\\Users\\Admin\\anaconda3\\lib\\threading.py\", line 973, in _bootstrap_inner\n",
      "    self.run()\n",
      "  File \"C:\\Users\\Admin\\anaconda3\\lib\\threading.py\", line 910, in run\n",
      "    self._target(*self._args, **self._kwargs)\n",
      "  File \"C:\\Users\\Admin\\anaconda3\\lib\\subprocess.py\", line 1479, in _readerthread\n",
      "    buffer.append(fh.read())\n",
      "  File \"C:\\Users\\Admin\\anaconda3\\lib\\encodings\\cp1252.py\", line 23, in decode\n",
      "    return codecs.charmap_decode(input,self.errors,decoding_table)[0]\n",
      "UnicodeDecodeError: 'charmap' codec can't decode byte 0x81 in position 3: character maps to <undefined>\n",
      "C:\\Users\\Admin\\anaconda3\\lib\\site-packages\\joblib\\externals\\loky\\backend\\context.py:110: UserWarning: Could not find the number of physical cores for the following reason:\n",
      "found 0 physical cores < 1\n",
      "Returning the number of logical cores instead. You can silence this warning by setting LOKY_MAX_CPU_COUNT to the number of cores you want to use.\n",
      "  warnings.warn(\n",
      "  File \"C:\\Users\\Admin\\anaconda3\\lib\\site-packages\\joblib\\externals\\loky\\backend\\context.py\", line 217, in _count_physical_cores\n",
      "    raise ValueError(\n"
     ]
    },
    {
     "data": {
      "text/html": [
       "<style>#sk-container-id-1 {color: black;}#sk-container-id-1 pre{padding: 0;}#sk-container-id-1 div.sk-toggleable {background-color: white;}#sk-container-id-1 label.sk-toggleable__label {cursor: pointer;display: block;width: 100%;margin-bottom: 0;padding: 0.3em;box-sizing: border-box;text-align: center;}#sk-container-id-1 label.sk-toggleable__label-arrow:before {content: \"▸\";float: left;margin-right: 0.25em;color: #696969;}#sk-container-id-1 label.sk-toggleable__label-arrow:hover:before {color: black;}#sk-container-id-1 div.sk-estimator:hover label.sk-toggleable__label-arrow:before {color: black;}#sk-container-id-1 div.sk-toggleable__content {max-height: 0;max-width: 0;overflow: hidden;text-align: left;background-color: #f0f8ff;}#sk-container-id-1 div.sk-toggleable__content pre {margin: 0.2em;color: black;border-radius: 0.25em;background-color: #f0f8ff;}#sk-container-id-1 input.sk-toggleable__control:checked~div.sk-toggleable__content {max-height: 200px;max-width: 100%;overflow: auto;}#sk-container-id-1 input.sk-toggleable__control:checked~label.sk-toggleable__label-arrow:before {content: \"▾\";}#sk-container-id-1 div.sk-estimator input.sk-toggleable__control:checked~label.sk-toggleable__label {background-color: #d4ebff;}#sk-container-id-1 div.sk-label input.sk-toggleable__control:checked~label.sk-toggleable__label {background-color: #d4ebff;}#sk-container-id-1 input.sk-hidden--visually {border: 0;clip: rect(1px 1px 1px 1px);clip: rect(1px, 1px, 1px, 1px);height: 1px;margin: -1px;overflow: hidden;padding: 0;position: absolute;width: 1px;}#sk-container-id-1 div.sk-estimator {font-family: monospace;background-color: #f0f8ff;border: 1px dotted black;border-radius: 0.25em;box-sizing: border-box;margin-bottom: 0.5em;}#sk-container-id-1 div.sk-estimator:hover {background-color: #d4ebff;}#sk-container-id-1 div.sk-parallel-item::after {content: \"\";width: 100%;border-bottom: 1px solid gray;flex-grow: 1;}#sk-container-id-1 div.sk-label:hover label.sk-toggleable__label {background-color: #d4ebff;}#sk-container-id-1 div.sk-serial::before {content: \"\";position: absolute;border-left: 1px solid gray;box-sizing: border-box;top: 0;bottom: 0;left: 50%;z-index: 0;}#sk-container-id-1 div.sk-serial {display: flex;flex-direction: column;align-items: center;background-color: white;padding-right: 0.2em;padding-left: 0.2em;position: relative;}#sk-container-id-1 div.sk-item {position: relative;z-index: 1;}#sk-container-id-1 div.sk-parallel {display: flex;align-items: stretch;justify-content: center;background-color: white;position: relative;}#sk-container-id-1 div.sk-item::before, #sk-container-id-1 div.sk-parallel-item::before {content: \"\";position: absolute;border-left: 1px solid gray;box-sizing: border-box;top: 0;bottom: 0;left: 50%;z-index: -1;}#sk-container-id-1 div.sk-parallel-item {display: flex;flex-direction: column;z-index: 1;position: relative;background-color: white;}#sk-container-id-1 div.sk-parallel-item:first-child::after {align-self: flex-end;width: 50%;}#sk-container-id-1 div.sk-parallel-item:last-child::after {align-self: flex-start;width: 50%;}#sk-container-id-1 div.sk-parallel-item:only-child::after {width: 0;}#sk-container-id-1 div.sk-dashed-wrapped {border: 1px dashed gray;margin: 0 0.4em 0.5em 0.4em;box-sizing: border-box;padding-bottom: 0.4em;background-color: white;}#sk-container-id-1 div.sk-label label {font-family: monospace;font-weight: bold;display: inline-block;line-height: 1.2em;}#sk-container-id-1 div.sk-label-container {text-align: center;}#sk-container-id-1 div.sk-container {/* jupyter's `normalize.less` sets `[hidden] { display: none; }` but bootstrap.min.css set `[hidden] { display: none !important; }` so we also need the `!important` here to be able to override the default hidden behavior on the sphinx rendered scikit-learn.org. See: https://github.com/scikit-learn/scikit-learn/issues/21755 */display: inline-block !important;position: relative;}#sk-container-id-1 div.sk-text-repr-fallback {display: none;}</style><div id=\"sk-container-id-1\" class=\"sk-top-container\"><div class=\"sk-text-repr-fallback\"><pre>LGBMClassifier(learning_rate=0.05, max_depth=2, n_estimators=300, verbose=-100)</pre><b>In a Jupyter environment, please rerun this cell to show the HTML representation or trust the notebook. <br />On GitHub, the HTML representation is unable to render, please try loading this page with nbviewer.org.</b></div><div class=\"sk-container\" hidden><div class=\"sk-item\"><div class=\"sk-estimator sk-toggleable\"><input class=\"sk-toggleable__control sk-hidden--visually\" id=\"sk-estimator-id-1\" type=\"checkbox\" checked><label for=\"sk-estimator-id-1\" class=\"sk-toggleable__label sk-toggleable__label-arrow\">LGBMClassifier</label><div class=\"sk-toggleable__content\"><pre>LGBMClassifier(learning_rate=0.05, max_depth=2, n_estimators=300, verbose=-100)</pre></div></div></div></div></div>"
      ],
      "text/plain": [
       "LGBMClassifier(learning_rate=0.05, max_depth=2, n_estimators=300, verbose=-100)"
      ]
     },
     "execution_count": 7,
     "metadata": {},
     "output_type": "execute_result"
    }
   ],
   "source": [
    "from lightgbm import LGBMClassifier\n",
    "\n",
    "#Create train and test data\n",
    "train = df_rolling_mean[pd.to_datetime(df_rolling_mean['start_date'])<train_date_threshold]\n",
    "test = df_rolling_mean[pd.to_datetime(df_rolling_mean['start_date'])>=train_date_threshold]\n",
    "\n",
    "#Instantiate LGBM Machine learning model\n",
    "model = LGBMClassifier(verbose=-100, max_depth=2, n_estimators=300, learning_rate=0.05)\n",
    "\n",
    "#Train machine learning model using the rolling_mean_feature we created\n",
    "model.fit(train[rolling_mean.features_created], train['__target'])\n"
   ]
  },
  {
   "cell_type": "markdown",
   "id": "604c9a11-a8b6-468b-8b6b-98710619ca67",
   "metadata": {},
   "source": [
    "So we trained a model. Next, let's check what the predictions look like. \n",
    "Below we "
   ]
  },
  {
   "cell_type": "code",
   "execution_count": 8,
   "id": "ae8e79d9-fe5f-4f7d-8844-13bf29d5dd2e",
   "metadata": {},
   "outputs": [
    {
     "name": "stdout",
     "output_type": "stream",
     "text": [
      "probability for playerid 1628374 to score 0.0 points in gameid 0022200600 is: 0.03401286381997298\n",
      "probability for playerid 1628374 to score 1.0 points in gameid 0022200600 is: 0.0004056315772471626\n",
      "probability for playerid 1628374 to score 2.0 points in gameid 0022200600 is: 0.0007411034828695288\n",
      "probability for playerid 1628374 to score 3.0 points in gameid 0022200600 is: 0.0008726459104589151\n",
      "probability for playerid 1628374 to score 4.0 points in gameid 0022200600 is: 0.0010616235209828795\n",
      "probability for playerid 1628374 to score 5.0 points in gameid 0022200600 is: 0.00036204939273700354\n",
      "probability for playerid 1628374 to score 6.0 points in gameid 0022200600 is: 0.0011035525515961024\n",
      "probability for playerid 1628374 to score 7.0 points in gameid 0022200600 is: 0.0006411568345926713\n",
      "probability for playerid 1628374 to score 8.0 points in gameid 0022200600 is: 0.009431644278012628\n",
      "probability for playerid 1628374 to score 9.0 points in gameid 0022200600 is: 0.0013154162038999458\n",
      "probability for playerid 1628374 to score 10.0 points in gameid 0022200600 is: 0.008825155579581741\n",
      "probability for playerid 1628374 to score 11.0 points in gameid 0022200600 is: 0.014848616480625155\n",
      "probability for playerid 1628374 to score 12.0 points in gameid 0022200600 is: 0.012706922797337046\n",
      "probability for playerid 1628374 to score 13.0 points in gameid 0022200600 is: 0.00894106787255058\n",
      "probability for playerid 1628374 to score 14.0 points in gameid 0022200600 is: 0.043178656688596814\n",
      "probability for playerid 1628374 to score 15.0 points in gameid 0022200600 is: 0.0035926498783282073\n",
      "probability for playerid 1628374 to score 16.0 points in gameid 0022200600 is: 0.009761993073498034\n",
      "probability for playerid 1628374 to score 17.0 points in gameid 0022200600 is: 0.022510481015786\n",
      "probability for playerid 1628374 to score 18.0 points in gameid 0022200600 is: 0.033043910244666436\n",
      "probability for playerid 1628374 to score 19.0 points in gameid 0022200600 is: 0.02438980212025638\n",
      "probability for playerid 1628374 to score 20.0 points in gameid 0022200600 is: 0.06210676510016988\n",
      "probability for playerid 1628374 to score 21.0 points in gameid 0022200600 is: 0.002488368154667201\n",
      "probability for playerid 1628374 to score 22.0 points in gameid 0022200600 is: 0.00510219312556283\n",
      "probability for playerid 1628374 to score 23.0 points in gameid 0022200600 is: 0.031201724301775254\n",
      "probability for playerid 1628374 to score 24.0 points in gameid 0022200600 is: 0.02123144354888199\n",
      "probability for playerid 1628374 to score 25.0 points in gameid 0022200600 is: 0.016191598187964912\n",
      "probability for playerid 1628374 to score 26.0 points in gameid 0022200600 is: 0.05462073264695294\n",
      "probability for playerid 1628374 to score 27.0 points in gameid 0022200600 is: 0.018724603244737827\n",
      "probability for playerid 1628374 to score 28.0 points in gameid 0022200600 is: 0.05342537851714222\n",
      "probability for playerid 1628374 to score 29.0 points in gameid 0022200600 is: 0.046878222191928845\n",
      "probability for playerid 1628374 to score 30.0 points in gameid 0022200600 is: 0.0723949024478111\n",
      "probability for playerid 1628374 to score 31.0 points in gameid 0022200600 is: 0.04721055493300525\n",
      "probability for playerid 1628374 to score 32.0 points in gameid 0022200600 is: 0.02575156822739048\n",
      "probability for playerid 1628374 to score 33.0 points in gameid 0022200600 is: 0.03669122545783011\n",
      "probability for playerid 1628374 to score 34.0 points in gameid 0022200600 is: 0.040099450153525146\n",
      "probability for playerid 1628374 to score 35.0 points in gameid 0022200600 is: 0.010405121091432282\n",
      "probability for playerid 1628374 to score 36.0 points in gameid 0022200600 is: 0.024500265430199064\n",
      "probability for playerid 1628374 to score 37.0 points in gameid 0022200600 is: 0.03315540277912707\n",
      "probability for playerid 1628374 to score 38.0 points in gameid 0022200600 is: 0.014853666087269913\n",
      "probability for playerid 1628374 to score 39.0 points in gameid 0022200600 is: 0.011732278717096584\n",
      "probability for playerid 1628374 to score 40.0 points in gameid 0022200600 is: 0.1394875923319329\n"
     ]
    }
   ],
   "source": [
    "probs = model.predict_proba(test[rolling_mean.features_created])\n",
    "for class_idx, points in enumerate(model.classes_):\n",
    "    print(f\"probability for playerid {test.iloc[500]['player_id']} to score {points} points in gameid {test.iloc[500]['game_id']} is: {probs[:, class_idx][500]}\")\n"
   ]
  },
  {
   "cell_type": "markdown",
   "id": "a13fa198-c82a-4047-b692-3eac50e5ecc9",
   "metadata": {},
   "source": [
    "Is the above good or bad? Hard to say by just looking at a single player for a single game. To evalulate overall model performance we use the logloss metric. \n",
    "The lower the score, the better our model performance is."
   ]
  },
  {
   "cell_type": "code",
   "execution_count": 9,
   "id": "98a05b9f-e511-47e8-b248-e99c649f8b12",
   "metadata": {},
   "outputs": [
    {
     "data": {
      "text/plain": [
       "2.6071138766914728"
      ]
     },
     "execution_count": 9,
     "metadata": {},
     "output_type": "execute_result"
    }
   ],
   "source": [
    "from sklearn.metrics import log_loss\n",
    "probs = model.predict_proba(test[rolling_mean.features_created])\n",
    "log_loss(test[PredictColumnNames.TARGET], probs)"
   ]
  },
  {
   "cell_type": "markdown",
   "id": "2bdb413d-887e-4886-bcc4-c87204a1a25c",
   "metadata": {},
   "source": [
    "Let's see if we can improve the logloss performance with better feature engineering. \n",
    "A problem with rolling-mean is that it weights performances 15 games ago similarly to performances in the most recent game.\n",
    "To address that performance we can add lags for the past 5 games and let our machine-learning model identify the importance of each lag."
   ]
  },
  {
   "cell_type": "code",
   "execution_count": 10,
   "id": "bf3cbf52-6173-44f7-94fe-05b63f183b09",
   "metadata": {},
   "outputs": [
    {
     "data": {
      "text/html": [
       "<div>\n",
       "<style scoped>\n",
       "    .dataframe tbody tr th:only-of-type {\n",
       "        vertical-align: middle;\n",
       "    }\n",
       "\n",
       "    .dataframe tbody tr th {\n",
       "        vertical-align: top;\n",
       "    }\n",
       "\n",
       "    .dataframe thead th {\n",
       "        text-align: right;\n",
       "    }\n",
       "</style>\n",
       "<table border=\"1\" class=\"dataframe\">\n",
       "  <thead>\n",
       "    <tr style=\"text-align: right;\">\n",
       "      <th></th>\n",
       "      <th>team_id</th>\n",
       "      <th>start_date</th>\n",
       "      <th>game_id</th>\n",
       "      <th>player_id</th>\n",
       "      <th>team_id_opponent</th>\n",
       "      <th>points</th>\n",
       "      <th>minutes</th>\n",
       "      <th>won</th>\n",
       "      <th>team_count</th>\n",
       "      <th>__target</th>\n",
       "      <th>rolling_mean_15_points</th>\n",
       "      <th>lag_1_points</th>\n",
       "      <th>lag_2_points</th>\n",
       "      <th>lag_3_points</th>\n",
       "      <th>lag_4_points</th>\n",
       "      <th>lag_5_points</th>\n",
       "    </tr>\n",
       "  </thead>\n",
       "  <tbody>\n",
       "    <tr>\n",
       "      <th>58820</th>\n",
       "      <td>1610612756</td>\n",
       "      <td>2023-02-01</td>\n",
       "      <td>0022200777</td>\n",
       "      <td>1630240</td>\n",
       "      <td>1610612737</td>\n",
       "      <td>6.0</td>\n",
       "      <td>21.483</td>\n",
       "      <td>0</td>\n",
       "      <td>2</td>\n",
       "      <td>6.0</td>\n",
       "      <td>5.066667</td>\n",
       "      <td>2.0</td>\n",
       "      <td>7.0</td>\n",
       "      <td>0.0</td>\n",
       "      <td>2.0</td>\n",
       "      <td>2.0</td>\n",
       "    </tr>\n",
       "    <tr>\n",
       "      <th>58821</th>\n",
       "      <td>1610612756</td>\n",
       "      <td>2023-02-01</td>\n",
       "      <td>0022200777</td>\n",
       "      <td>202687</td>\n",
       "      <td>1610612737</td>\n",
       "      <td>2.0</td>\n",
       "      <td>10.000</td>\n",
       "      <td>0</td>\n",
       "      <td>2</td>\n",
       "      <td>2.0</td>\n",
       "      <td>3.666667</td>\n",
       "      <td>0.0</td>\n",
       "      <td>8.0</td>\n",
       "      <td>4.0</td>\n",
       "      <td>6.0</td>\n",
       "      <td>4.0</td>\n",
       "    </tr>\n",
       "    <tr>\n",
       "      <th>58822</th>\n",
       "      <td>1610612756</td>\n",
       "      <td>2023-02-01</td>\n",
       "      <td>0022200777</td>\n",
       "      <td>1629006</td>\n",
       "      <td>1610612737</td>\n",
       "      <td>2.0</td>\n",
       "      <td>15.367</td>\n",
       "      <td>0</td>\n",
       "      <td>2</td>\n",
       "      <td>2.0</td>\n",
       "      <td>6.066667</td>\n",
       "      <td>3.0</td>\n",
       "      <td>2.0</td>\n",
       "      <td>0.0</td>\n",
       "      <td>9.0</td>\n",
       "      <td>4.0</td>\n",
       "    </tr>\n",
       "    <tr>\n",
       "      <th>58823</th>\n",
       "      <td>1610612756</td>\n",
       "      <td>2023-02-01</td>\n",
       "      <td>0022200777</td>\n",
       "      <td>1630688</td>\n",
       "      <td>1610612737</td>\n",
       "      <td>4.0</td>\n",
       "      <td>18.950</td>\n",
       "      <td>0</td>\n",
       "      <td>2</td>\n",
       "      <td>4.0</td>\n",
       "      <td>3.866667</td>\n",
       "      <td>7.0</td>\n",
       "      <td>0.0</td>\n",
       "      <td>3.0</td>\n",
       "      <td>2.0</td>\n",
       "      <td>0.0</td>\n",
       "    </tr>\n",
       "    <tr>\n",
       "      <th>58824</th>\n",
       "      <td>1610612756</td>\n",
       "      <td>2023-02-01</td>\n",
       "      <td>0022200777</td>\n",
       "      <td>1629111</td>\n",
       "      <td>1610612737</td>\n",
       "      <td>6.0</td>\n",
       "      <td>10.517</td>\n",
       "      <td>0</td>\n",
       "      <td>2</td>\n",
       "      <td>6.0</td>\n",
       "      <td>5.866667</td>\n",
       "      <td>4.0</td>\n",
       "      <td>0.0</td>\n",
       "      <td>2.0</td>\n",
       "      <td>15.0</td>\n",
       "      <td>12.0</td>\n",
       "    </tr>\n",
       "  </tbody>\n",
       "</table>\n",
       "</div>"
      ],
      "text/plain": [
       "          team_id  start_date     game_id  player_id  team_id_opponent  \\\n",
       "58820  1610612756  2023-02-01  0022200777    1630240        1610612737   \n",
       "58821  1610612756  2023-02-01  0022200777     202687        1610612737   \n",
       "58822  1610612756  2023-02-01  0022200777    1629006        1610612737   \n",
       "58823  1610612756  2023-02-01  0022200777    1630688        1610612737   \n",
       "58824  1610612756  2023-02-01  0022200777    1629111        1610612737   \n",
       "\n",
       "       points  minutes won  team_count  __target  rolling_mean_15_points  \\\n",
       "58820     6.0   21.483   0           2       6.0                5.066667   \n",
       "58821     2.0   10.000   0           2       2.0                3.666667   \n",
       "58822     2.0   15.367   0           2       2.0                6.066667   \n",
       "58823     4.0   18.950   0           2       4.0                3.866667   \n",
       "58824     6.0   10.517   0           2       6.0                5.866667   \n",
       "\n",
       "       lag_1_points  lag_2_points  lag_3_points  lag_4_points  lag_5_points  \n",
       "58820           2.0           7.0           0.0           2.0           2.0  \n",
       "58821           0.0           8.0           4.0           6.0           4.0  \n",
       "58822           3.0           2.0           0.0           9.0           4.0  \n",
       "58823           7.0           0.0           3.0           2.0           0.0  \n",
       "58824           4.0           0.0           2.0          15.0          12.0  "
      ]
     },
     "execution_count": 10,
     "metadata": {},
     "output_type": "execute_result"
    }
   ],
   "source": [
    "from player_performance_ratings.transformation.post_transformers import LagTransformation\n",
    "#Creates 10 lags\n",
    "lag_transformation = LagTransformation(feature_names=[\"points\"], lag_length=5, granularity=['player_id'])\n",
    "df_rolling_mean_lag = lag_transformation.transform(df_rolling_mean)\n",
    "df_rolling_mean_lag.tail()"
   ]
  },
  {
   "cell_type": "code",
   "execution_count": 11,
   "id": "f5283b26-9ca6-42bb-9e83-9e45462b916d",
   "metadata": {},
   "outputs": [
    {
     "data": {
      "text/plain": [
       "['rolling_mean_15_points',\n",
       " 'lag_1_points',\n",
       " 'lag_2_points',\n",
       " 'lag_3_points',\n",
       " 'lag_4_points',\n",
       " 'lag_5_points']"
      ]
     },
     "execution_count": 11,
     "metadata": {},
     "output_type": "execute_result"
    }
   ],
   "source": [
    "# Printing out all our new features\n",
    "features = rolling_mean.features_created + lag_transformation.features_created\n",
    "features"
   ]
  },
  {
   "cell_type": "code",
   "execution_count": 12,
   "id": "409f7955-3cef-4de7-9721-cba71e1e9fb9",
   "metadata": {},
   "outputs": [
    {
     "data": {
      "text/plain": [
       "array([8516, 5179, 5546, 5577, 5437, 5400])"
      ]
     },
     "execution_count": 12,
     "metadata": {},
     "output_type": "execute_result"
    }
   ],
   "source": [
    "train = df_rolling_mean_lag[pd.to_datetime(df_rolling_mean_lag['start_date'])<'2023-01-09']\n",
    "test = df_rolling_mean_lag[pd.to_datetime(df_rolling_mean_lag['start_date'])>='2023-01-09']\n",
    "model = LGBMClassifier(verbose=-100, max_depth=2, n_estimators=300, learning_rate=0.05, reg_alpha=1.5)\n",
    "\n",
    "model.fit(train[features], train[PredictColumnNames.TARGET])\n",
    "model.feature_importances_"
   ]
  },
  {
   "cell_type": "markdown",
   "id": "30a6d305-5c41-4413-9fff-7cc17f15e326",
   "metadata": {},
   "source": [
    "Above we trained a new machine-learning model with the additional lagged features and we also printed out the feature importances of each feature. \n",
    "The higher the feature importance, the more impact the feature has on the prediction. \n",
    "As would be expected, we see that the lags further back have a lower feature importance, thus matters less according to the mode."
   ]
  },
  {
   "cell_type": "code",
   "execution_count": 13,
   "id": "c8879cbd-bb3d-4664-b094-100cf543da04",
   "metadata": {},
   "outputs": [
    {
     "data": {
      "text/plain": [
       "2.5910563903453556"
      ]
     },
     "execution_count": 13,
     "metadata": {},
     "output_type": "execute_result"
    }
   ],
   "source": [
    "import numpy as np\n",
    "np.set_printoptions(suppress=True)\n",
    "probs = model.predict_proba(test[features])\n",
    "log_loss(test[\"__target\"], probs)"
   ]
  },
  {
   "cell_type": "markdown",
   "id": "457f1c7e-b2a3-4d51-ba8e-4e9e1ae348bb",
   "metadata": {},
   "source": [
    "An alternative to lagged features is a concept I called time_weighted_rating.\n",
    "Instead of relying on artifical cutoffs, it takes into account all past performances and weight recent performances higher. \n",
    "Below BayesianTimeWeightedRating is used. This is a bayesian approach because it creates a prior \"rating\" of a player and as it gets more data (evidence) it updates the rating. \n",
    "\n",
    "By default the prior will be equal to the avearage across all players.\n",
    "The time_weighted_rating_evidence is the time-weighted value of the player. In this case it's all past points-data for a player where recent performances are weighted higher\n",
    "The time_weighted_rating_likelihood_ratio takes a value between 0 and 1. The more data we have on the better (and the more recent it is), the closer the value will be to 1.\n",
    "The final rating is time_weighted_rating  which is calcualted as prior * (1-time_weighted_rating_likelihood_ratio) + time_weighted_rating_likelihood_ratio * time_weighted_rating_evidence "
   ]
  },
  {
   "cell_type": "code",
   "execution_count": 14,
   "id": "13263763-0bdf-4978-9ec2-1c00a2b7b7d0",
   "metadata": {},
   "outputs": [
    {
     "name": "stderr",
     "output_type": "stream",
     "text": [
      "C:\\Users\\Admin\\anaconda3\\lib\\site-packages\\player_performance_ratings\\ratings\\time_weight_ratings.py:114: RuntimeWarning: invalid value encountered in double_scalars\n",
      "  evidence_performances = np.sum(\n"
     ]
    },
    {
     "name": "stdout",
     "output_type": "stream",
     "text": [
      "time_weighted_rating [8.123092527455931, 8.562398337056653, 8.476783072859371, 8.20081217586016, 9.116075673380804]\n",
      "time_weighted_rating_likelihood_ratio [0.08949740420666664, 0.08949740420666664, 0.08949740420666664, 0.08949740420666664, 0.0724613059075374]\n",
      "time_weighted_rating_evidence [0.0, 4.908587165123588, 3.951964289228997, 0.8684011463031783, 11.606122305892972]\n"
     ]
    }
   ],
   "source": [
    "from player_performance_ratings.ratings.time_weight_ratings import BayesianTimeWeightedRating\n",
    "from player_performance_ratings import ColumnNames\n",
    "column_names = ColumnNames(\n",
    "    team_id='team_id',\n",
    "    match_id='game_id',\n",
    "    start_date=\"start_date\",\n",
    "    player_id=\"player_id\",\n",
    "    performance=\"points\",\n",
    ")\n",
    "df_rolling_mean_lag = df_rolling_mean_lag.sort_values(by=[column_names.start_date, column_names.match_id, column_names.team_id, column_names.player_id])\n",
    "time_weight_rating = BayesianTimeWeightedRating()\n",
    "generated_time_weight_ratings = time_weight_rating.generate(df=df_rolling_mean_lag, column_names=column_names)\n",
    "for rating_feature, values in generated_time_weight_ratings.items():\n",
    "    print(rating_feature, values[2300:2305])"
   ]
  },
  {
   "cell_type": "markdown",
   "id": "09dfc789-af59-4b5c-be3b-13a0f6df3cae",
   "metadata": {},
   "source": [
    "When calling .generate() above it returns a dictionary mapped to a list of the rating-values as can be seen above. \n",
    "Above we simply printed out the ratings for 5 rows. \n",
    "To add it as features to our dataframe, simply follow steps below:"
   ]
  },
  {
   "cell_type": "code",
   "execution_count": 18,
   "id": "1472509b-1320-4f89-a38a-cb1caefb3669",
   "metadata": {},
   "outputs": [
    {
     "data": {
      "text/html": [
       "<div>\n",
       "<style scoped>\n",
       "    .dataframe tbody tr th:only-of-type {\n",
       "        vertical-align: middle;\n",
       "    }\n",
       "\n",
       "    .dataframe tbody tr th {\n",
       "        vertical-align: top;\n",
       "    }\n",
       "\n",
       "    .dataframe thead th {\n",
       "        text-align: right;\n",
       "    }\n",
       "</style>\n",
       "<table border=\"1\" class=\"dataframe\">\n",
       "  <thead>\n",
       "    <tr style=\"text-align: right;\">\n",
       "      <th></th>\n",
       "      <th>team_id</th>\n",
       "      <th>start_date</th>\n",
       "      <th>game_id</th>\n",
       "      <th>player_id</th>\n",
       "      <th>team_id_opponent</th>\n",
       "      <th>points</th>\n",
       "      <th>minutes</th>\n",
       "      <th>won</th>\n",
       "      <th>team_count</th>\n",
       "      <th>__target</th>\n",
       "      <th>rolling_mean_15_points</th>\n",
       "      <th>lag_1_points</th>\n",
       "      <th>lag_2_points</th>\n",
       "      <th>lag_3_points</th>\n",
       "      <th>lag_4_points</th>\n",
       "      <th>lag_5_points</th>\n",
       "      <th>hour_number</th>\n",
       "      <th>time_weighted_rating</th>\n",
       "    </tr>\n",
       "  </thead>\n",
       "  <tbody>\n",
       "    <tr>\n",
       "      <th>58815</th>\n",
       "      <td>1610612756</td>\n",
       "      <td>2023-02-01</td>\n",
       "      <td>0022200777</td>\n",
       "      <td>1629028</td>\n",
       "      <td>1610612737</td>\n",
       "      <td>20.0</td>\n",
       "      <td>26.533</td>\n",
       "      <td>0</td>\n",
       "      <td>2</td>\n",
       "      <td>20.0</td>\n",
       "      <td>12.066667</td>\n",
       "      <td>22.0</td>\n",
       "      <td>23.0</td>\n",
       "      <td>19.0</td>\n",
       "      <td>0.0</td>\n",
       "      <td>0.0</td>\n",
       "      <td>465336</td>\n",
       "      <td>11.050646</td>\n",
       "    </tr>\n",
       "    <tr>\n",
       "      <th>58824</th>\n",
       "      <td>1610612756</td>\n",
       "      <td>2023-02-01</td>\n",
       "      <td>0022200777</td>\n",
       "      <td>1629111</td>\n",
       "      <td>1610612737</td>\n",
       "      <td>6.0</td>\n",
       "      <td>10.517</td>\n",
       "      <td>0</td>\n",
       "      <td>2</td>\n",
       "      <td>6.0</td>\n",
       "      <td>5.866667</td>\n",
       "      <td>4.0</td>\n",
       "      <td>0.0</td>\n",
       "      <td>2.0</td>\n",
       "      <td>15.0</td>\n",
       "      <td>12.0</td>\n",
       "      <td>465336</td>\n",
       "      <td>7.667579</td>\n",
       "    </tr>\n",
       "    <tr>\n",
       "      <th>58813</th>\n",
       "      <td>1610612756</td>\n",
       "      <td>2023-02-01</td>\n",
       "      <td>0022200777</td>\n",
       "      <td>1629661</td>\n",
       "      <td>1610612737</td>\n",
       "      <td>6.0</td>\n",
       "      <td>15.333</td>\n",
       "      <td>0</td>\n",
       "      <td>2</td>\n",
       "      <td>6.0</td>\n",
       "      <td>13.066667</td>\n",
       "      <td>4.0</td>\n",
       "      <td>15.0</td>\n",
       "      <td>22.0</td>\n",
       "      <td>24.0</td>\n",
       "      <td>8.0</td>\n",
       "      <td>465336</td>\n",
       "      <td>9.511736</td>\n",
       "    </tr>\n",
       "    <tr>\n",
       "      <th>58820</th>\n",
       "      <td>1610612756</td>\n",
       "      <td>2023-02-01</td>\n",
       "      <td>0022200777</td>\n",
       "      <td>1630240</td>\n",
       "      <td>1610612737</td>\n",
       "      <td>6.0</td>\n",
       "      <td>21.483</td>\n",
       "      <td>0</td>\n",
       "      <td>2</td>\n",
       "      <td>6.0</td>\n",
       "      <td>5.066667</td>\n",
       "      <td>2.0</td>\n",
       "      <td>7.0</td>\n",
       "      <td>0.0</td>\n",
       "      <td>2.0</td>\n",
       "      <td>2.0</td>\n",
       "      <td>465336</td>\n",
       "      <td>8.291053</td>\n",
       "    </tr>\n",
       "    <tr>\n",
       "      <th>58823</th>\n",
       "      <td>1610612756</td>\n",
       "      <td>2023-02-01</td>\n",
       "      <td>0022200777</td>\n",
       "      <td>1630688</td>\n",
       "      <td>1610612737</td>\n",
       "      <td>4.0</td>\n",
       "      <td>18.950</td>\n",
       "      <td>0</td>\n",
       "      <td>2</td>\n",
       "      <td>4.0</td>\n",
       "      <td>3.866667</td>\n",
       "      <td>7.0</td>\n",
       "      <td>0.0</td>\n",
       "      <td>3.0</td>\n",
       "      <td>2.0</td>\n",
       "      <td>0.0</td>\n",
       "      <td>465336</td>\n",
       "      <td>6.779943</td>\n",
       "    </tr>\n",
       "  </tbody>\n",
       "</table>\n",
       "</div>"
      ],
      "text/plain": [
       "          team_id start_date     game_id  player_id  team_id_opponent  points  \\\n",
       "58815  1610612756 2023-02-01  0022200777    1629028        1610612737    20.0   \n",
       "58824  1610612756 2023-02-01  0022200777    1629111        1610612737     6.0   \n",
       "58813  1610612756 2023-02-01  0022200777    1629661        1610612737     6.0   \n",
       "58820  1610612756 2023-02-01  0022200777    1630240        1610612737     6.0   \n",
       "58823  1610612756 2023-02-01  0022200777    1630688        1610612737     4.0   \n",
       "\n",
       "       minutes won  team_count  __target  rolling_mean_15_points  \\\n",
       "58815   26.533   0           2      20.0               12.066667   \n",
       "58824   10.517   0           2       6.0                5.866667   \n",
       "58813   15.333   0           2       6.0               13.066667   \n",
       "58820   21.483   0           2       6.0                5.066667   \n",
       "58823   18.950   0           2       4.0                3.866667   \n",
       "\n",
       "       lag_1_points  lag_2_points  lag_3_points  lag_4_points  lag_5_points  \\\n",
       "58815          22.0          23.0          19.0           0.0           0.0   \n",
       "58824           4.0           0.0           2.0          15.0          12.0   \n",
       "58813           4.0          15.0          22.0          24.0           8.0   \n",
       "58820           2.0           7.0           0.0           2.0           2.0   \n",
       "58823           7.0           0.0           3.0           2.0           0.0   \n",
       "\n",
       "       hour_number  time_weighted_rating  \n",
       "58815       465336             11.050646  \n",
       "58824       465336              7.667579  \n",
       "58813       465336              9.511736  \n",
       "58820       465336              8.291053  \n",
       "58823       465336              6.779943  "
      ]
     },
     "execution_count": 18,
     "metadata": {},
     "output_type": "execute_result"
    }
   ],
   "source": [
    "features = rolling_mean.features_created + lag_transformation.features_created + [\"time_weighted_rating\"]\n",
    "df_rolling_mean_lag_time_weighted = df_rolling_mean_lag.copy()\n",
    "df_rolling_mean_lag_time_weighted[\"time_weighted_rating\"] = generated_time_weight_ratings[\"time_weighted_rating\"]\n",
    "    \n",
    "df_rolling_mean_lag_time_weighted.tail()\n",
    "    \n",
    "    "
   ]
  },
  {
   "cell_type": "code",
   "execution_count": 19,
   "id": "3374b928-fb67-44e4-ae94-87c02016fc88",
   "metadata": {},
   "outputs": [
    {
     "data": {
      "text/plain": [
       "['rolling_mean_15_points',\n",
       " 'lag_1_points',\n",
       " 'lag_2_points',\n",
       " 'lag_3_points',\n",
       " 'lag_4_points',\n",
       " 'lag_5_points',\n",
       " 'time_weighted_rating']"
      ]
     },
     "execution_count": 19,
     "metadata": {},
     "output_type": "execute_result"
    }
   ],
   "source": [
    "features"
   ]
  },
  {
   "cell_type": "code",
   "execution_count": 20,
   "id": "1b6b1030-aa05-436a-95d5-15fe60bc4f0f",
   "metadata": {},
   "outputs": [
    {
     "data": {
      "text/plain": [
       "array([6745, 4492, 4772, 4805, 4824, 4660, 5479])"
      ]
     },
     "execution_count": 20,
     "metadata": {},
     "output_type": "execute_result"
    }
   ],
   "source": [
    "train = df_rolling_mean_lag_time_weighted[pd.to_datetime(df_rolling_mean_lag_time_weighted['start_date'])<'2023-01-09']\n",
    "test = df_rolling_mean_lag_time_weighted[pd.to_datetime(df_rolling_mean_lag_time_weighted['start_date'])>='2023-01-09']\n",
    "model = LGBMClassifier(verbose=-100, max_depth=2, n_estimators=300, learning_rate=0.05, reg_alpha=1.5)\n",
    "\n",
    "model.fit(train[features], train['__target'])\n",
    "model.feature_importances_"
   ]
  },
  {
   "cell_type": "code",
   "execution_count": 21,
   "id": "b80d7622-ef92-4752-9f62-252e150d8499",
   "metadata": {},
   "outputs": [
    {
     "data": {
      "text/plain": [
       "2.5925631664928903"
      ]
     },
     "execution_count": 21,
     "metadata": {},
     "output_type": "execute_result"
    }
   ],
   "source": [
    "probs = model.predict_proba(test[features])\n",
    "log_loss(test[\"__target\"], probs)"
   ]
  },
  {
   "cell_type": "markdown",
   "id": "198eaf8c-caba-4aba-afd1-3b2fcb48235a",
   "metadata": {},
   "source": [
    "## Packaging it all together\n",
    "\n",
    "It's a bit messy to have the various transformations, rating-models and machine-learning-models as seperate components. Wouldn't it be easier if we can run all of these things as once?\n",
    "Luckily, that is exactly what the MatchPredictor class does. Below is an example of how this can be accomplished.\n",
    "\n",
    "Notice, we no longer need to separate train and predict datasets nor even specify the predictor. All of those things have default logic for how the features are passed to the predictor and which predictor is used.\n",
    "Although for proper optimization it is recommended to specify the machine-learning model, however if you just want to get started quickly, this makes it possible. \n",
    "\n",
    "We also added a few more features below. player_points_per_minute and minutes.\n"
   ]
  },
  {
   "cell_type": "code",
   "execution_count": 22,
   "id": "a9c59350-d97f-420e-993b-9e98494bafc7",
   "metadata": {},
   "outputs": [
    {
     "name": "stderr",
     "output_type": "stream",
     "text": [
      "WARNING:root:predictor is not set. Will use ['lag_1_points', 'lag_2_points', 'lag_3_points', 'lag_4_points', 'lag_5_points', 'lag_6_points', 'lag_7_points', 'lag_8_points', 'lag_9_points', 'lag_10_points', 'lag_1_player_points_per_minute', 'lag_2_player_points_per_minute', 'lag_3_player_points_per_minute', 'lag_4_player_points_per_minute', 'lag_5_player_points_per_minute', 'lag_6_player_points_per_minute', 'lag_7_player_points_per_minute', 'lag_8_player_points_per_minute', 'lag_9_player_points_per_minute', 'lag_10_player_points_per_minute', 'rolling_mean_15_points', 'rolling_mean_15_player_points_per_minute', 'rolling_mean_10_minutes', 'time_weighted_rating', 'time_weighted_rating_evidence', 'time_weighted_rating_likelihood_ratio'] as features\n",
      "WARNING:root:model is not set. Will use LGBMClassifier(max_depth=2, n_estimators=400, learning_rate=0.05)\n",
      "WARNING:root:target has more than 2 unique values, multiclassifier has therefore been set to True\n"
     ]
    },
    {
     "name": "stdout",
     "output_type": "stream",
     "text": [
      "2.2742979311163913\n"
     ]
    }
   ],
   "source": [
    "from player_performance_ratings import ColumnNames, PredictColumnNames\n",
    "from player_performance_ratings.predictor.match_predictor import MatchPredictor\n",
    "\n",
    "df = df.sort_values(by=[column_names.start_date, column_names.match_id, column_names.team_id, column_names.player_id])\n",
    "df[\"player_points_per_minute\"] = df[\"points\"] / df[\"minutes\"]\n",
    "\n",
    "\n",
    "post_rating_transformers = [\n",
    "    LagTransformation(feature_names=[\"points\", \"player_points_per_minute\"], lag_length=10, granularity=['player_id']), \n",
    "    RollingMeanTransformation(feature_names=[\"points\", \"player_points_per_minute\"], window=15, granularity=[\"player_id\"]),\n",
    "    RollingMeanTransformation(feature_names=[\"minutes\"], window=10, granularity=[\"player_id\"])    \n",
    "]\n",
    "\n",
    "rating_generators = [BayesianTimeWeightedRating()]\n",
    "\n",
    "\n",
    "match_predictor = MatchPredictor(column_names=column_names,rating_generators=rating_generators, post_rating_transformers=post_rating_transformers)\n",
    "df_with_predictions = match_predictor.generate_historical(df)\n",
    "probabilities = np.stack(df_with_predictions[match_predictor.predictor.pred_column].values)\n",
    "print(log_loss(df_with_predictions[PredictColumnNames.TARGET], probabilities))"
   ]
  },
  {
   "cell_type": "code",
   "execution_count": null,
   "id": "d9007c2f-eabb-4ce9-84c7-b95769e6dd8d",
   "metadata": {},
   "outputs": [],
   "source": []
  }
 ],
 "metadata": {
  "kernelspec": {
   "display_name": "Python 3 (ipykernel)",
   "language": "python",
   "name": "python3"
  },
  "language_info": {
   "codemirror_mode": {
    "name": "ipython",
    "version": 3
   },
   "file_extension": ".py",
   "mimetype": "text/x-python",
   "name": "python",
   "nbconvert_exporter": "python",
   "pygments_lexer": "ipython3",
   "version": "3.9.12"
  }
 },
 "nbformat": 4,
 "nbformat_minor": 5
}
